{
  "nbformat": 4,
  "nbformat_minor": 0,
  "metadata": {
    "colab": {
      "name": "CNN",
      "provenance": [],
      "collapsed_sections": [],
      "include_colab_link": true
    },
    "kernelspec": {
      "name": "python3",
      "display_name": "Python 3"
    },
    "accelerator": "GPU"
  },
  "cells": [
    {
      "cell_type": "markdown",
      "metadata": {
        "id": "view-in-github",
        "colab_type": "text"
      },
      "source": [
        "<a href=\"https://colab.research.google.com/github/allenye66/ML-Course/blob/master/CNN.ipynb\" target=\"_parent\"><img src=\"https://colab.research.google.com/assets/colab-badge.svg\" alt=\"Open In Colab\"/></a>"
      ]
    },
    {
      "cell_type": "markdown",
      "metadata": {
        "id": "3b5-AhlUnuiN",
        "colab_type": "text"
      },
      "source": [
        "![](https://www.weenect.com/blog/wp-content/uploads/2018/07/accident-route-chien.jpg)"
      ]
    },
    {
      "cell_type": "markdown",
      "metadata": {
        "id": "Sq-JhCcLpBwS",
        "colab_type": "text"
      },
      "source": [
        "We work for CC: ConscientiousCars where we help self-driving vehicles be more conscientious of their surroundings. Our cars have been very good at recognizing and avoiding humans. They haven't, however, been capable of recognizing dogs. Since dogs are man's best friend and will always be where we humans are, we want our cars to know if a dog is on the road in front of them and avoid the dog. \n",
        "\n",
        "\\\\\n",
        "\n",
        "The first step to avoiding these cute puppers is **knowing if a pupper is in front of the car**\n",
        "\n",
        "\\\\\n",
        "\n",
        "So, today, we will **build a detector that can tell when our car sees a dog or not**!\n"
      ]
    },
    {
      "cell_type": "code",
      "metadata": {
        "id": "uhNVum16scIW",
        "colab_type": "code",
        "outputId": "9f71ede2-9f9c-4e7c-c1ec-5079f9cb3f0c",
        "colab": {
          "base_uri": "https://localhost:8080/",
          "height": 68
        }
      },
      "source": [
        "#@title Run this to load some packages and data! { display-mode: \"form\" }\n",
        "from sklearn.neural_network import MLPClassifier\n",
        "from sklearn.neighbors import KNeighborsClassifier\n",
        "from sklearn import model_selection\n",
        "from sklearn.metrics import accuracy_score\n",
        "from collections import Counter\n",
        "import keras\n",
        "from keras.models import Sequential\n",
        "from keras.layers import Dense, Conv2D\n",
        "from keras.layers import Activation, MaxPooling2D, Dropout, Flatten, Reshape\n",
        "from keras.wrappers.scikit_learn import KerasClassifier\n",
        "from sklearn.model_selection import StratifiedKFold\n",
        "from sklearn.model_selection import cross_val_score\n",
        "import numpy as np\n",
        "import pandas as pd\n",
        "import seaborn as sns\n",
        "import matplotlib.pyplot as plt\n",
        "\n",
        "\n",
        "def categorical_to_numpy(labels_in):\n",
        "  labels = []\n",
        "  for label in labels_in:\n",
        "    if label == 'dog':\n",
        "      labels.append(np.array([1, 0]))\n",
        "    else:\n",
        "      labels.append(np.array([0, 1]))\n",
        "  return np.array(labels)\n",
        "\n",
        "\n",
        "def load_data():\n",
        "  # Run this cell to download our data into a file called 'cifar_data'\n",
        "  import gdown\n",
        "  gdown.download('https://drive.google.com/uc?id=1-BjeqccJdLiBA6PnNinmXSQ6w5BluLem','cifar_data','True'); # dogs v road;\n",
        "\n",
        "  # now load the data from our cloud computer\n",
        "  import pickle\n",
        "  data_dict = pickle.load(open( \"cifar_data\", \"rb\" ));\n",
        "  \n",
        "  data   = data_dict['data']\n",
        "  labels = data_dict['labels']\n",
        "  \n",
        "  return data, labels\n",
        "\n",
        "def plot_one_image(data, labels, img_idx):\n",
        "  from google.colab.patches import cv2_imshow\n",
        "  import cv2\n",
        "  import matplotlib.pyplot as plt\n",
        "  my_img   = data[img_idx, :].squeeze().reshape([32,32,3]).copy()\n",
        "  my_label = labels[img_idx]\n",
        "  print('label: %s'%my_label)\n",
        "  plt.imshow(my_img)\n",
        "  plt.show()\n",
        "  \n",
        "def CNNClassifier(num_epochs=2, layers=1, dropout=0.15):\n",
        "  def create_model():\n",
        "    model = Sequential()\n",
        "    model.add(Reshape((32, 32, 3)))\n",
        "    \n",
        "    for i in range(layers):\n",
        "      model.add(Conv2D(32, (3, 3), padding='same'))\n",
        "      model.add(Activation('relu'))\n",
        "    \n",
        "    model.add(Conv2D(32, (3, 3)))\n",
        "    model.add(Activation('relu'))\n",
        "    model.add(MaxPooling2D(pool_size=(2, 2)))\n",
        "    model.add(Dropout(dropout))\n",
        "\n",
        "    model.add(Conv2D(64, (3, 3), padding='same'))\n",
        "    model.add(Activation('relu'))\n",
        "    model.add(Conv2D(64, (3, 3)))\n",
        "    model.add(Activation('relu'))\n",
        "    model.add(MaxPooling2D(pool_size=(2, 2)))\n",
        "    model.add(Dropout(dropout))\n",
        "\n",
        "    model.add(Flatten())\n",
        "    model.add(Dense(512))\n",
        "    model.add(Activation('relu'))\n",
        "    model.add(Dropout(dropout))\n",
        "    model.add(Dense(2))\n",
        "    model.add(Activation('softmax'))\n",
        "\n",
        "    # initiate RMSprop optimizer\n",
        "    opt = keras.optimizers.rmsprop(lr=0.0001, decay=1e-6)\n",
        "\n",
        "    # Let's train the model using RMSprop\n",
        "    model.compile(loss='categorical_crossentropy',\n",
        "                  optimizer=opt,\n",
        "                  metrics=['accuracy'])\n",
        "    return model\n",
        "  return KerasClassifier(build_fn=create_model, epochs=num_epochs, batch_size=10, verbose=2)\n",
        "\n",
        "def plot_acc(history, ax = None, xlabel = 'Epoch #'):\n",
        "    history = history.history\n",
        "    history.update({'epoch':list(range(len(history['val_accuracy'])))})\n",
        "    history = pd.DataFrame.from_dict(history)\n",
        "\n",
        "    best_epoch = history.sort_values(by = 'val_accuracy', ascending = False).iloc[0]['epoch']\n",
        "\n",
        "    if not ax:\n",
        "      f, ax = plt.subplots(1,1)\n",
        "    sns.lineplot(x = 'epoch', y = 'val_accuracy', data = history, label = 'Validation', ax = ax)\n",
        "    sns.lineplot(x = 'epoch', y = 'accuracy', data = history, label = 'Training', ax = ax)\n",
        "    ax.axhline(0.5, linestyle = '--',color='red', label = 'Chance')\n",
        "    ax.axvline(x = best_epoch, linestyle = '--', color = 'green', label = 'Best Epoch')  \n",
        "    ax.legend(loc = 1)    \n",
        "    ax.set_ylim([0.4, 1])\n",
        "\n",
        "    ax.set_xlabel(xlabel)\n",
        "    ax.set_ylabel('Accuracy (Fraction)')\n",
        "    \n",
        "    plt.show()\n",
        "    \n",
        "def model_to_string(model):\n",
        "    import re\n",
        "    stringlist = []\n",
        "    model.summary(print_fn=lambda x: stringlist.append(x))\n",
        "    sms = \"\\n\".join(stringlist)\n",
        "    sms = re.sub('_\\d\\d\\d','', sms)\n",
        "    sms = re.sub('_\\d\\d','', sms)\n",
        "    sms = re.sub('_\\d','', sms)  \n",
        "    return sms"
      ],
      "execution_count": 1,
      "outputs": [
        {
          "output_type": "stream",
          "text": [
            "Using TensorFlow backend.\n",
            "/usr/local/lib/python3.6/dist-packages/statsmodels/tools/_testing.py:19: FutureWarning: pandas.util.testing is deprecated. Use the functions in the public API at pandas.testing instead.\n",
            "  import pandas.util.testing as tm\n"
          ],
          "name": "stderr"
        }
      ]
    },
    {
      "cell_type": "markdown",
      "metadata": {
        "id": "1QxGsnvhnn8R",
        "colab_type": "text"
      },
      "source": [
        "## Exploring CNN parameters."
      ]
    },
    {
      "cell_type": "markdown",
      "metadata": {
        "id": "btr24O6Hqgo6",
        "colab_type": "text"
      },
      "source": [
        "Today, we will explore various hyperparameters of CNNs. We will use the same data from yesterday's dog/road dataset. To get started, let's load in our data and create our training and test set.\n"
      ]
    },
    {
      "cell_type": "code",
      "metadata": {
        "id": "MmZbrZoKnthN",
        "colab_type": "code",
        "colab": {}
      },
      "source": [
        "# load our data\n",
        "data, labels = load_data()\n",
        "inputs_train, inputs_test, labels_train, labels_test = model_selection.train_test_split(data, labels, test_size=0.2, random_state=1)\n",
        "\n",
        "labels_train_numerical = categorical_to_numpy(labels_train)\n",
        "labels_test_numerical = categorical_to_numpy(labels_test)"
      ],
      "execution_count": 0,
      "outputs": []
    },
    {
      "cell_type": "markdown",
      "metadata": {
        "id": "doLXp1Ot8D2C",
        "colab_type": "text"
      },
      "source": [
        "## TENSORFLOW PLAYGROUND CONTEST (OPTIONAL)\n",
        "\n",
        "Open [this](https://playground.tensorflow.org/#activation=tanh&batchSize=10&dataset=circle&regDataset=reg-plane&learningRate=0.03&regularizationRate=0&noise=0&networkShape=4,2&seed=0.62283&showTestData=false&discretize=false&percTrainData=50&x=true&y=true&xTimesY=false&xSquared=false&ySquared=false&cosX=false&sinX=false&cosY=false&sinY=false&collectStats=false&problem=classification&initZero=false&hideText=false&regularization_hide=true&regularizationRate_hide=true&learningRate_hide=true&batchSize_hide=true&stepButton_hide=true&activation_hide=true) to understand Neural Networks!\n",
        "\n",
        "**Today, let's see who can get the best accuracy on the spiral dataset. Play with as many parameters you want, including regularization, activation function, batch size, number of hidden layers, neurons per layer, etc.**"
      ]
    },
    {
      "cell_type": "markdown",
      "metadata": {
        "colab_type": "text",
        "id": "wdoRy5GdNsbF"
      },
      "source": [
        "## Using a simple neural network"
      ]
    },
    {
      "cell_type": "markdown",
      "metadata": {
        "colab_type": "text",
        "id": "laQcICycNl03"
      },
      "source": [
        "Let's now try a neural network for this and see how well it does. "
      ]
    },
    {
      "cell_type": "markdown",
      "metadata": {
        "colab_type": "text",
        "id": "CjxgnzqONlQ4"
      },
      "source": [
        "To build a simple neural network, we use `MLPClassifier` from scikit-learn. We will play with the **number of neurons** and the **number of hidden layers** to adjust the complexity of our model! Just like we did in Playground. \n",
        "\n",
        "Let's see how well we can do. :) \n",
        "\n",
        "**Example 1:**\n",
        "\n",
        "If we want to create a neural network with 1 hidden layer and 3 neurons, we would say:\n",
        "\n",
        "`nnet = MLPClassifier(hidden_layer_sizes=(3)) `\n",
        "\n",
        "**Example 2:**\n",
        "\n",
        "If we want to create a neural network with 2 hidden layers and 3 neurons in each layer:\n",
        "\n",
        "`nnet = MLPClassifier(hidden_layer_sizes=(3, 3)) `"
      ]
    },
    {
      "cell_type": "code",
      "metadata": {
        "colab_type": "code",
        "id": "FxhvZD_cNk_M",
        "colab": {
          "base_uri": "https://localhost:8080/",
          "height": 51
        },
        "outputId": "81d7a55c-672f-4ec6-e5df-667cbd05ad9d"
      },
      "source": [
        "# Create and train our multi layer perceptron model\n",
        "nnet = MLPClassifier(hidden_layer_sizes=(10), max_iter= 1000)  ## How many hidden layers? How many neurons does this have?\n",
        "\n",
        "nnet.fit(inputs_train, labels_train)\n",
        "\n",
        "# Predict what the classes are based on the testing data\n",
        "predictions = nnet.predict(inputs_test)\n",
        "\n",
        "# Print the score on the testing data\n",
        "print(\"MLP Testing Set Score:\")\n",
        "print(accuracy_score(labels_test, predictions)*100)"
      ],
      "execution_count": 3,
      "outputs": [
        {
          "output_type": "stream",
          "text": [
            "MLP Testing Set Score:\n",
            "52.916666666666664\n"
          ],
          "name": "stdout"
        }
      ]
    },
    {
      "cell_type": "markdown",
      "metadata": {
        "colab_type": "text",
        "id": "-eq4BErmNk0d"
      },
      "source": [
        "**How well did your neural network perform?** \n",
        "\n",
        "Multilayer perceptrons aren't complex models and are more difficult to find the right \"settings\" for. It takes some trial and error!"
      ]
    },
    {
      "cell_type": "markdown",
      "metadata": {
        "colab_type": "text",
        "id": "pIjccJdDNgWu"
      },
      "source": [
        "**Try the following out and see how well you can get your network to do:**\n",
        "* Change the number of hidden neurons and hidden layers to see how well you can do.\n",
        "* Increase or decrease the number of iterations"
      ]
    },
    {
      "cell_type": "markdown",
      "metadata": {
        "id": "hXud5MuBXqzo",
        "colab_type": "text"
      },
      "source": [
        "### Excercise 1 ✍️\n",
        "\n",
        "Using the MLP classifier, explore different numbers of hidden layers, the size of the hidden layers, and the number of iterations. You may use a for-loop if you would like!"
      ]
    },
    {
      "cell_type": "code",
      "metadata": {
        "id": "owrF6cDvX0HX",
        "colab_type": "code",
        "colab": {
          "base_uri": "https://localhost:8080/",
          "height": 697
        },
        "outputId": "504b6b94-f878-4d3a-f980-a8a55b6613fc"
      },
      "source": [
        "### YOUR CODE HERE\n",
        "### YOUR CODE HERE\n",
        "for i in range(20):\n",
        "  # Create and train our multi layer perceptron model\n",
        "  nnet = MLPClassifier(hidden_layer_sizes=(20+(i+1)*2), max_iter= 10000)  ## How many hidden layers? How many neurons does this have?\n",
        "  nnet.fit(inputs_train, labels_train)\n",
        "\n",
        "  # Predict what the classes are based on the testing data\n",
        "  predictions = nnet.predict(inputs_test)\n",
        "\n",
        "  # Print the score on the testing data\n",
        "  print(\"layer size:\", (20+(i+1)*2),\"= MLP Testing Set Score:\")\n",
        "  print(accuracy_score(labels_test, predictions)*100)\n",
        "### END CODE\n",
        "### END CODE"
      ],
      "execution_count": 6,
      "outputs": [
        {
          "output_type": "stream",
          "text": [
            "layer size: 22 = MLP Testing Set Score:\n",
            "75.0\n",
            "layer size: 24 = MLP Testing Set Score:\n",
            "80.41666666666667\n",
            "layer size: 26 = MLP Testing Set Score:\n",
            "52.916666666666664\n",
            "layer size: 28 = MLP Testing Set Score:\n",
            "47.083333333333336\n",
            "layer size: 30 = MLP Testing Set Score:\n",
            "52.916666666666664\n",
            "layer size: 32 = MLP Testing Set Score:\n",
            "47.083333333333336\n",
            "layer size: 34 = MLP Testing Set Score:\n",
            "47.083333333333336\n",
            "layer size: 36 = MLP Testing Set Score:\n",
            "52.916666666666664\n",
            "layer size: 38 = MLP Testing Set Score:\n",
            "75.41666666666667\n",
            "layer size: 40 = MLP Testing Set Score:\n",
            "52.916666666666664\n",
            "layer size: 42 = MLP Testing Set Score:\n",
            "47.5\n",
            "layer size: 44 = MLP Testing Set Score:\n",
            "52.5\n",
            "layer size: 46 = MLP Testing Set Score:\n",
            "87.91666666666667\n",
            "layer size: 48 = MLP Testing Set Score:\n",
            "53.75\n",
            "layer size: 50 = MLP Testing Set Score:\n",
            "52.916666666666664\n",
            "layer size: 52 = MLP Testing Set Score:\n",
            "83.75\n",
            "layer size: 54 = MLP Testing Set Score:\n",
            "79.58333333333333\n",
            "layer size: 56 = MLP Testing Set Score:\n",
            "86.66666666666667\n",
            "layer size: 58 = MLP Testing Set Score:\n",
            "87.91666666666667\n",
            "layer size: 60 = MLP Testing Set Score:\n",
            "87.91666666666667\n"
          ],
          "name": "stdout"
        }
      ]
    },
    {
      "cell_type": "markdown",
      "metadata": {
        "id": "37O_VE_D1Bdy",
        "colab_type": "text"
      },
      "source": [
        "## Models for vision: Convolutional Neural Networks"
      ]
    },
    {
      "cell_type": "markdown",
      "metadata": {
        "id": "GqrfI4JiVeFr",
        "colab_type": "text"
      },
      "source": [
        "###Excercise 2 ✍️\n",
        "\n",
        "There is a famous type of neural network known as convolutional neural networks (CNNs). These types of neural networks work particularly well on problems to do with computer vision. Let's try one out!\n",
        "\n",
        "To load up a simple CNN on scikit-learn, just run:\n",
        "\n",
        "`cnn = CNNClassifier(num_epochs=E, layers=L, dropout=D)`\n",
        "\n",
        "The dropout represents how many weights we set to 0 during training time. This can help prevent overfitting.\n",
        "\n",
        "**Try different values of num_epochs, layers, and dropout so that you get the highest accuracy model. Work with your instructors to review what each of these parameters mean and why they are affecting the model.**"
      ]
    },
    {
      "cell_type": "code",
      "metadata": {
        "id": "dSwghlVU4WTy",
        "colab_type": "code",
        "colab": {
          "base_uri": "https://localhost:8080/",
          "height": 1000
        },
        "outputId": "5c00aaa3-f394-445d-e63d-26f6b5cc9223"
      },
      "source": [
        "### YOUR CODE HERE\n",
        "'''\n",
        "cnn = CNNClassifier(num_epochs = 20, layers = 3, dropout = 1)\n",
        "cnn.fit(inputs_train, labels_train)\n",
        "predictions = cnn.predict(inputs_test)\n",
        "print(accuracy_score(labels_test, predictions)*100)\n",
        "'''\n",
        "\n",
        "for i in [10]:\n",
        "  for j in [1,2,3]:\n",
        "    for k in [0.2, 0.6, 0.8]:\n",
        "      print(\"at\", j, \"layers +\", \"at\", k, \"dropout+\", \"at\", i, \"epochs:\")\n",
        "      cnn = CNNClassifier(num_epochs = i, layers = j, dropout = k)\n",
        "      cnn.fit(inputs_train, labels_train)\n",
        "      predictions = cnn.predict(inputs_test)\n",
        "      print(accuracy_score(labels_test, predictions)*100) \n",
        "\n",
        "### END CODE"
      ],
      "execution_count": 76,
      "outputs": [
        {
          "output_type": "stream",
          "text": [
            "at 1 layers + at 0.2 dropout+ at 10 epochs:\n",
            "Epoch 1/10\n",
            " - 1s - loss: 3.7654 - accuracy: 0.6958\n",
            "Epoch 2/10\n",
            " - 0s - loss: 0.8830 - accuracy: 0.8313\n",
            "Epoch 3/10\n",
            " - 0s - loss: 0.5039 - accuracy: 0.8844\n",
            "Epoch 4/10\n",
            " - 0s - loss: 0.2668 - accuracy: 0.9198\n",
            "Epoch 5/10\n",
            " - 0s - loss: 0.2481 - accuracy: 0.9229\n",
            "Epoch 6/10\n",
            " - 0s - loss: 0.1835 - accuracy: 0.9292\n",
            "Epoch 7/10\n",
            " - 0s - loss: 0.1796 - accuracy: 0.9448\n",
            "Epoch 8/10\n",
            " - 0s - loss: 0.1637 - accuracy: 0.9500\n",
            "Epoch 9/10\n",
            " - 0s - loss: 0.1265 - accuracy: 0.9448\n",
            "Epoch 10/10\n",
            " - 0s - loss: 0.1098 - accuracy: 0.9646\n",
            "95.41666666666667\n",
            "at 1 layers + at 0.6 dropout+ at 10 epochs:\n",
            "Epoch 1/10\n",
            " - 1s - loss: 12.8232 - accuracy: 0.5604\n",
            "Epoch 2/10\n",
            " - 0s - loss: 3.5314 - accuracy: 0.6594\n",
            "Epoch 3/10\n",
            " - 0s - loss: 1.6183 - accuracy: 0.7115\n",
            "Epoch 4/10\n",
            " - 0s - loss: 0.7899 - accuracy: 0.8021\n",
            "Epoch 5/10\n",
            " - 0s - loss: 0.6334 - accuracy: 0.8125\n",
            "Epoch 6/10\n",
            " - 0s - loss: 0.4331 - accuracy: 0.8479\n",
            "Epoch 7/10\n",
            " - 0s - loss: 0.3616 - accuracy: 0.8698\n",
            "Epoch 8/10\n",
            " - 0s - loss: 0.3863 - accuracy: 0.8813\n",
            "Epoch 9/10\n",
            " - 0s - loss: 0.2511 - accuracy: 0.9062\n",
            "Epoch 10/10\n",
            " - 0s - loss: 0.3159 - accuracy: 0.9000\n",
            "93.75\n",
            "at 1 layers + at 0.8 dropout+ at 10 epochs:\n",
            "Epoch 1/10\n",
            " - 1s - loss: 80.7239 - accuracy: 0.5083\n",
            "Epoch 2/10\n",
            " - 0s - loss: 19.8225 - accuracy: 0.5302\n",
            "Epoch 3/10\n",
            " - 0s - loss: 7.3587 - accuracy: 0.5354\n",
            "Epoch 4/10\n",
            " - 0s - loss: 3.6064 - accuracy: 0.5385\n",
            "Epoch 5/10\n",
            " - 0s - loss: 1.7633 - accuracy: 0.5542\n",
            "Epoch 6/10\n",
            " - 0s - loss: 1.1705 - accuracy: 0.5958\n",
            "Epoch 7/10\n",
            " - 0s - loss: 0.8484 - accuracy: 0.6292\n",
            "Epoch 8/10\n",
            " - 0s - loss: 0.7321 - accuracy: 0.6667\n",
            "Epoch 9/10\n",
            " - 0s - loss: 0.6260 - accuracy: 0.7260\n",
            "Epoch 10/10\n",
            " - 0s - loss: 0.6147 - accuracy: 0.7552\n",
            "85.0\n",
            "at 2 layers + at 0.2 dropout+ at 10 epochs:\n",
            "Epoch 1/10\n",
            " - 1s - loss: 2.4000 - accuracy: 0.7667\n",
            "Epoch 2/10\n",
            " - 0s - loss: 0.4255 - accuracy: 0.8760\n",
            "Epoch 3/10\n",
            " - 0s - loss: 0.2812 - accuracy: 0.9094\n",
            "Epoch 4/10\n",
            " - 0s - loss: 0.2073 - accuracy: 0.9312\n",
            "Epoch 5/10\n",
            " - 0s - loss: 0.1767 - accuracy: 0.9365\n",
            "Epoch 6/10\n",
            " - 0s - loss: 0.1201 - accuracy: 0.9552\n",
            "Epoch 7/10\n",
            " - 0s - loss: 0.1284 - accuracy: 0.9573\n",
            "Epoch 8/10\n",
            " - 0s - loss: 0.1112 - accuracy: 0.9646\n",
            "Epoch 9/10\n",
            " - 0s - loss: 0.0937 - accuracy: 0.9719\n",
            "Epoch 10/10\n",
            " - 0s - loss: 0.1033 - accuracy: 0.9615\n",
            "97.08333333333333\n",
            "at 2 layers + at 0.6 dropout+ at 10 epochs:\n",
            "Epoch 1/10\n",
            " - 1s - loss: 13.5195 - accuracy: 0.5792\n",
            "Epoch 2/10\n",
            " - 0s - loss: 2.7777 - accuracy: 0.6500\n",
            "Epoch 3/10\n",
            " - 0s - loss: 0.9607 - accuracy: 0.7688\n",
            "Epoch 4/10\n",
            " - 0s - loss: 0.5842 - accuracy: 0.8052\n",
            "Epoch 5/10\n",
            " - 0s - loss: 0.4426 - accuracy: 0.8479\n",
            "Epoch 6/10\n",
            " - 0s - loss: 0.3520 - accuracy: 0.8729\n",
            "Epoch 7/10\n",
            " - 0s - loss: 0.3086 - accuracy: 0.8917\n",
            "Epoch 8/10\n",
            " - 0s - loss: 0.3014 - accuracy: 0.8948\n",
            "Epoch 9/10\n",
            " - 0s - loss: 0.2579 - accuracy: 0.9125\n",
            "Epoch 10/10\n",
            " - 0s - loss: 0.2525 - accuracy: 0.9135\n",
            "92.91666666666667\n",
            "at 2 layers + at 0.8 dropout+ at 10 epochs:\n",
            "Epoch 1/10\n",
            " - 1s - loss: 63.8939 - accuracy: 0.5156\n",
            "Epoch 2/10\n",
            " - 0s - loss: 11.5510 - accuracy: 0.5052\n",
            "Epoch 3/10\n",
            " - 0s - loss: 3.6485 - accuracy: 0.5323\n",
            "Epoch 4/10\n",
            " - 0s - loss: 1.4314 - accuracy: 0.5521\n",
            "Epoch 5/10\n",
            " - 0s - loss: 0.9386 - accuracy: 0.5635\n",
            "Epoch 6/10\n",
            " - 0s - loss: 0.7011 - accuracy: 0.6375\n",
            "Epoch 7/10\n",
            " - 0s - loss: 0.6705 - accuracy: 0.6615\n",
            "Epoch 8/10\n",
            " - 0s - loss: 0.5924 - accuracy: 0.7167\n",
            "Epoch 9/10\n",
            " - 0s - loss: 0.5716 - accuracy: 0.7552\n",
            "Epoch 10/10\n",
            " - 0s - loss: 0.5175 - accuracy: 0.7750\n",
            "82.91666666666667\n",
            "at 3 layers + at 0.2 dropout+ at 10 epochs:\n",
            "Epoch 1/10\n",
            " - 1s - loss: 0.8155 - accuracy: 0.7542\n",
            "Epoch 2/10\n",
            " - 0s - loss: 0.2737 - accuracy: 0.8927\n",
            "Epoch 3/10\n",
            " - 0s - loss: 0.1948 - accuracy: 0.9271\n",
            "Epoch 4/10\n",
            " - 0s - loss: 0.1534 - accuracy: 0.9385\n",
            "Epoch 5/10\n",
            " - 0s - loss: 0.1310 - accuracy: 0.9490\n",
            "Epoch 6/10\n",
            " - 0s - loss: 0.1455 - accuracy: 0.9563\n",
            "Epoch 7/10\n",
            " - 0s - loss: 0.1178 - accuracy: 0.9604\n",
            "Epoch 8/10\n",
            " - 0s - loss: 0.0844 - accuracy: 0.9719\n",
            "Epoch 9/10\n",
            " - 0s - loss: 0.0829 - accuracy: 0.9740\n",
            "Epoch 10/10\n",
            " - 0s - loss: 0.1093 - accuracy: 0.9615\n",
            "95.41666666666667\n",
            "at 3 layers + at 0.6 dropout+ at 10 epochs:\n",
            "Epoch 1/10\n",
            " - 1s - loss: 6.6084 - accuracy: 0.5844\n",
            "Epoch 2/10\n",
            " - 0s - loss: 1.3308 - accuracy: 0.6990\n",
            "Epoch 3/10\n",
            " - 0s - loss: 0.6224 - accuracy: 0.8042\n",
            "Epoch 4/10\n",
            " - 0s - loss: 0.4375 - accuracy: 0.8521\n",
            "Epoch 5/10\n",
            " - 0s - loss: 0.3791 - accuracy: 0.8615\n",
            "Epoch 6/10\n",
            " - 0s - loss: 0.3005 - accuracy: 0.8896\n",
            "Epoch 7/10\n",
            " - 0s - loss: 0.2526 - accuracy: 0.8958\n",
            "Epoch 8/10\n",
            " - 0s - loss: 0.2969 - accuracy: 0.8969\n",
            "Epoch 9/10\n",
            " - 0s - loss: 0.2586 - accuracy: 0.9031\n",
            "Epoch 10/10\n",
            " - 0s - loss: 0.2119 - accuracy: 0.9104\n",
            "93.75\n",
            "at 3 layers + at 0.8 dropout+ at 10 epochs:\n",
            "Epoch 1/10\n",
            " - 1s - loss: 16.5388 - accuracy: 0.5146\n",
            "Epoch 2/10\n",
            " - 0s - loss: 4.0638 - accuracy: 0.5240\n",
            "Epoch 3/10\n",
            " - 0s - loss: 1.3831 - accuracy: 0.6156\n",
            "Epoch 4/10\n",
            " - 0s - loss: 0.8020 - accuracy: 0.6323\n",
            "Epoch 5/10\n",
            " - 0s - loss: 0.6122 - accuracy: 0.7094\n",
            "Epoch 6/10\n",
            " - 0s - loss: 0.5273 - accuracy: 0.7521\n",
            "Epoch 7/10\n",
            " - 0s - loss: 0.4063 - accuracy: 0.8260\n",
            "Epoch 8/10\n",
            " - 0s - loss: 0.3636 - accuracy: 0.8458\n",
            "Epoch 9/10\n",
            " - 0s - loss: 0.3727 - accuracy: 0.8531\n",
            "Epoch 10/10\n",
            " - 0s - loss: 0.3436 - accuracy: 0.8656\n",
            "88.33333333333333\n"
          ],
          "name": "stdout"
        }
      ]
    },
    {
      "cell_type": "markdown",
      "metadata": {
        "id": "KGWpgsVXP1ut",
        "colab_type": "text"
      },
      "source": [
        "**How well did your neural network perform?** \n",
        "\n",
        "CNNs typically perform significantly better than MLPs on vision problems but, like MLPs, aren't always consistent when they are applied. They are also sensitive to a number of parameters. "
      ]
    },
    {
      "cell_type": "markdown",
      "metadata": {
        "id": "c-XRh5Y5P_CL",
        "colab_type": "text"
      },
      "source": [
        "## Training and Validation Curves\n",
        "\n",
        "An important aspect of training neural networks is to prevent overfitting. In brief, we know that our model is overfitting when validation (or test) accuracy is lower than the training accuracy.\n",
        "\n",
        "In the first line of code below, we first **fit** the model on the training data and pass in some validation (or test) data to evaluate it. We call it the **history** because we want to retain information about the accuracy at each epoch.\n",
        "\n",
        "In the second line we plot the history so that we can compare the training and validation accuracies.  \n",
        "\n",
        "```\n",
        "history = model.fit(inputs_train, labels_train, validation_data=(inputs_test, labels_test_numerical))\n",
        "plot_acc(history)\n",
        "```\n",
        "\n"
      ]
    },
    {
      "cell_type": "markdown",
      "metadata": {
        "id": "8eaFvE2PQEFe",
        "colab_type": "text"
      },
      "source": [
        "###Excercise 3 ✍️\n",
        "\n",
        "Plot a train vs. validation curve for our CNN model. \n",
        "\n",
        "**After how many epochs does the model begin to overfit? How does this vary as you vary the number of hidden layers and dropout?** Overfitting occurs when the validation accuracy starts to drop below the training accuracy."
      ]
    },
    {
      "cell_type": "code",
      "metadata": {
        "id": "OsVAasDbjARJ",
        "colab_type": "code",
        "colab": {
          "base_uri": "https://localhost:8080/",
          "height": 980
        },
        "outputId": "4cb118f3-7994-4b9a-ccc1-5fbaa1e89e7e"
      },
      "source": [
        "### YOUR CODE HERE\n",
        "cnn = CNNClassifier(num_epochs = 20, layers = 3, dropout =0.5)\n",
        "\n",
        "history = cnn.fit(inputs_train, labels_train, validation_data=(inputs_test, categorical_to_numpy(labels_test)))\n",
        "\n",
        "plot_acc(history)\n",
        "\n",
        "### END CODE"
      ],
      "execution_count": 55,
      "outputs": [
        {
          "output_type": "stream",
          "text": [
            "Train on 960 samples, validate on 240 samples\n",
            "Epoch 1/20\n",
            " - 1s - loss: 6.3866 - accuracy: 0.5708 - val_loss: 0.9175 - val_accuracy: 0.6208\n",
            "Epoch 2/20\n",
            " - 1s - loss: 1.1201 - accuracy: 0.7177 - val_loss: 0.2278 - val_accuracy: 0.9250\n",
            "Epoch 3/20\n",
            " - 1s - loss: 0.4815 - accuracy: 0.8188 - val_loss: 0.1966 - val_accuracy: 0.9375\n",
            "Epoch 4/20\n",
            " - 1s - loss: 0.3953 - accuracy: 0.8573 - val_loss: 0.2278 - val_accuracy: 0.9500\n",
            "Epoch 5/20\n",
            " - 1s - loss: 0.3134 - accuracy: 0.8729 - val_loss: 0.1841 - val_accuracy: 0.9292\n",
            "Epoch 6/20\n",
            " - 1s - loss: 0.2969 - accuracy: 0.8844 - val_loss: 0.4260 - val_accuracy: 0.8208\n",
            "Epoch 7/20\n",
            " - 1s - loss: 0.2494 - accuracy: 0.9021 - val_loss: 0.1655 - val_accuracy: 0.9417\n",
            "Epoch 8/20\n",
            " - 1s - loss: 0.2740 - accuracy: 0.8896 - val_loss: 0.2080 - val_accuracy: 0.9250\n",
            "Epoch 9/20\n",
            " - 1s - loss: 0.2205 - accuracy: 0.9250 - val_loss: 0.1691 - val_accuracy: 0.9583\n",
            "Epoch 10/20\n",
            " - 1s - loss: 0.2209 - accuracy: 0.9146 - val_loss: 0.1837 - val_accuracy: 0.9333\n",
            "Epoch 11/20\n",
            " - 1s - loss: 0.1994 - accuracy: 0.9281 - val_loss: 0.1866 - val_accuracy: 0.9458\n",
            "Epoch 12/20\n",
            " - 1s - loss: 0.1799 - accuracy: 0.9302 - val_loss: 0.1732 - val_accuracy: 0.9458\n",
            "Epoch 13/20\n",
            " - 1s - loss: 0.1784 - accuracy: 0.9469 - val_loss: 0.1708 - val_accuracy: 0.9333\n",
            "Epoch 14/20\n",
            " - 1s - loss: 0.1668 - accuracy: 0.9427 - val_loss: 0.2476 - val_accuracy: 0.9167\n",
            "Epoch 15/20\n",
            " - 1s - loss: 0.1547 - accuracy: 0.9458 - val_loss: 0.1752 - val_accuracy: 0.9250\n",
            "Epoch 16/20\n",
            " - 1s - loss: 0.1586 - accuracy: 0.9427 - val_loss: 0.1571 - val_accuracy: 0.9500\n",
            "Epoch 17/20\n",
            " - 1s - loss: 0.1616 - accuracy: 0.9510 - val_loss: 0.1725 - val_accuracy: 0.9417\n",
            "Epoch 18/20\n",
            " - 1s - loss: 0.1642 - accuracy: 0.9396 - val_loss: 0.2044 - val_accuracy: 0.9375\n",
            "Epoch 19/20\n",
            " - 1s - loss: 0.1189 - accuracy: 0.9573 - val_loss: 0.1858 - val_accuracy: 0.9417\n",
            "Epoch 20/20\n",
            " - 1s - loss: 0.1427 - accuracy: 0.9458 - val_loss: 0.1388 - val_accuracy: 0.9542\n"
          ],
          "name": "stdout"
        },
        {
          "output_type": "display_data",
          "data": {
            "image/png": "[encoded data removed]",
            "text/plain": [
              "<Figure size 432x288 with 1 Axes>"
            ]
          },
          "metadata": {
            "tags": [],
            "needs_background": "light"
          }
        }
      ]
    },
    {
      "cell_type": "markdown",
      "metadata": {
        "id": "76z4NAY6afd7",
        "colab_type": "text"
      },
      "source": [
        "## Building Neural Networks from Scratch in Keras (Advanced)\n",
        "\n",
        "We have been giving you helper functions which give you Keras neural networks pre-built for you. Now, we will build them on our own!\n",
        "\n"
      ]
    },
    {
      "cell_type": "markdown",
      "metadata": {
        "id": "781M4IyhssuA",
        "colab_type": "text"
      },
      "source": [
        "Let's walk though how to do this:\n",
        "\n",
        "**1. Specify model**\n",
        "\n",
        "```\n",
        "model = Sequential()\n",
        "```\n",
        "In this line of code, we build our network where the information flows from LEFT to RIGHT through the network in ONE DIRECTION as opposed to multiple directions. Neurons on the right never pass informations to neurons on the left of it. \n",
        "\n",
        "\n",
        "**2. Add layers to the network**\n",
        "```\n",
        "model.add(Dense(4,input_shape = (3,), activation = 'sigmoid'))\n",
        "```\n",
        "In this code, we `add` a `layer` of neurons to our network. \n",
        "\n",
        "This layers consists of 4 neurons. Each neuron is DENSE and connects to all of the previous layer's inputs and all of the subsequent layers outputs. We specify that there are 3 inputs here.\n",
        "\n",
        "We also specify what kind of output the neuron will give. If you want the neuron to output a number between 0 and 1 (like a probability!) you would use 'softmax' or 'sigmoid'. If you want the neuron to output any number, you can use 'linear'! You'll also often see 'relu', which is when a neuron will only output positive numbers. \n",
        "\n",
        "```\n",
        "model.add(Dense(1, activation = 'linear'))\n",
        "```\n",
        "This code adds ANOTHER layer to the network that has 1 neuron. This one neuron is used to predict a continuous value!\n",
        "\n",
        "**3. Turn the model on by compiling it** \n",
        "\n",
        "After having built the network, we want to train and use it, so we have to 'turn it on' and 'compile' it. To turn it on, we have to specify at the very least, a loss, an optimizer, and some ways of evaluating the model (metrics). Don't worry too much about what this means! Just know that this is necessary. \n",
        "\n",
        "```\n",
        "model.compile(loss='mean_squared_error',\n",
        "optimizer = 'adam',\n",
        "metrics = ['mean_squared_error'])\n",
        "  ```"
      ]
    },
    {
      "cell_type": "markdown",
      "metadata": {
        "id": "toYjQUOVtKDT",
        "colab_type": "text"
      },
      "source": [
        "Once we've created our network, we can use it very simply! Just like we did with sklearn, we define our input data (x), the true predictions from that data (y), and then train our model with `fit`. \n",
        "\n",
        "```\n",
        "model.fit(x, y)\n",
        "```\n"
      ]
    },
    {
      "cell_type": "markdown",
      "metadata": {
        "id": "-aozkfBxtWa7",
        "colab_type": "text"
      },
      "source": [
        "To use the model, you can use it to predict something with:\n",
        "```\n",
        "y = model.predict_classes(x)\n",
        "```\n",
        "\n",
        "You can actually use the model before you even train it! It just won't perform very well. "
      ]
    },
    {
      "cell_type": "markdown",
      "metadata": {
        "id": "jdngkAX_aCVu",
        "colab_type": "text"
      },
      "source": [
        "###Excercise 4 ✍️\n",
        "\n"
      ]
    },
    {
      "cell_type": "markdown",
      "metadata": {
        "colab_type": "text",
        "id": "Bj-Pt3wGCXRu"
      },
      "source": [
        "\n",
        "We're going to build this model: \n",
        "\n",
        "![](http://cs231n.github.io/assets/nn1/neural_net.jpeg)"
      ]
    },
    {
      "cell_type": "markdown",
      "metadata": {
        "id": "H-6WGeedvTCS",
        "colab_type": "text"
      },
      "source": [
        "This network can be described as: \n",
        "* Input Layer: 3\n",
        "* Layer 1 (Hidden): 4 neurons that are activated by `'relu'`\n",
        "* Layer 2 (Output): 2 neurons that are activated by `'softmax'`\n",
        "\n",
        "\n",
        "We also want to compile the model with\n",
        "`loss = 'categorical_crossentropy'`"
      ]
    },
    {
      "cell_type": "code",
      "metadata": {
        "id": "dp-g9qotbRPU",
        "colab_type": "code",
        "colab": {}
      },
      "source": [
        "# Fill in the blanks with your group!\n",
        "### YOUR CODE HERE:\n",
        "model_1 = Sequential()\n",
        "model_1.add(Dense(4, input_shape = (3,), activation = 'relu'))\n",
        "model_1.add(Dense(2, activation = 'softmax'))\n",
        "model_1.compile(loss='categorical_crossentropy',\n",
        "                optimizer = 'adam', \n",
        "                metrics = ['accuracy'])\n",
        "### END CODE"
      ],
      "execution_count": 0,
      "outputs": []
    },
    {
      "cell_type": "markdown",
      "metadata": {
        "id": "YovNRgfuy0Oq",
        "colab_type": "text"
      },
      "source": [
        "###Excercise 5 ✍️\n",
        "\n",
        "![](http://cs231n.github.io/assets/nn1/neural_net2.jpeg)\n",
        "\n",
        "* Input Layer: 3 Neurons\n",
        "\n",
        "* Layer 1: 4 neurons that are activated by '`relu' `and take in 3 inputs.\n",
        "\n",
        "* Layer 2: 4 neurons that are activated by `'relu'`\n",
        "\n",
        "* Layer 3 (out): 1 neurons that is activated by `'sigmoid'`\n",
        "\n",
        "Compile the model with\n",
        "`loss = 'binary_crossentropy'`"
      ]
    },
    {
      "cell_type": "code",
      "metadata": {
        "id": "pm-ylEWqbXrQ",
        "colab_type": "code",
        "colab": {}
      },
      "source": [
        "### YOUR CODE HERE\n",
        "model_2 = Sequential()\n",
        "model_2.add(Dense(4, input_shape = (3,), activation = 'relu'))\n",
        "model_2.add(Dense(4, activation = 'relu'))\n",
        "model_2.add(Dense(1, activation = 'sigmoid'))\n",
        "model_2.compile(loss='categorical_crossentropy',\n",
        "                optimizer = 'adam', \n",
        "                metrics = ['accuracy'])\n",
        "### END CODE\n"
      ],
      "execution_count": 0,
      "outputs": []
    },
    {
      "cell_type": "markdown",
      "metadata": {
        "id": "QCbD6siv-Ip-",
        "colab_type": "text"
      },
      "source": [
        "###Excercise 6 ✍️\n",
        "\n",
        "Now that we know how to build simple neural networks in Keras, let's build a CNN that will perform well on our data set of car and road images. \n",
        "\n",
        "Below is Keras code for a CNN. It will run as-is on the conscientious cars dataset. However, the performance is suboptimal. Add more layers and change the neural network hyperparameters so that the performance will be better. **Can you get the train and validation accuracy to both be higher than 90%?**\n",
        "\n",
        "The Keras core layer API may be a useful reference: https://keras.io/layers/core/ \n",
        "\n",
        "In particular and in addition to adding more of the existing convolutional layers and activations, consider using the following layers:\n",
        "\n",
        "`Dropout(N)`\n",
        "\n",
        "`MaxPooling2D(pool_size=(N, N))`\n",
        "\n",
        "Dropout and max-pooling operations should be applied at appropriate parts of the network."
      ]
    },
    {
      "cell_type": "code",
      "metadata": {
        "id": "LFVHyPKn-V4N",
        "colab_type": "code",
        "colab": {
          "base_uri": "https://localhost:8080/",
          "height": 1000
        },
        "outputId": "6c1170ba-c177-4d1c-d464-4448092682c8"
      },
      "source": [
        "##### YOUR CODE HERE\n",
        "\n",
        "model = Sequential()\n",
        "model.add(Reshape((32, 32, 3)))\n",
        "\n",
        "model.add(Conv2D(32, (3, 3), padding='same'))\n",
        "model.add(Activation('relu'))\n",
        "model.add(MaxPooling2D(pool_size=(2, 2)))\n",
        "\n",
        "\n",
        "\n",
        "model.add(Dense(28, activation = 'relu'))\n",
        "model.add(Dropout(0.9))\n",
        "\n",
        "\n",
        "\n",
        "model.add(Flatten())\n",
        "model.add(Dense(512))\n",
        "model.add(Dense(100))\n",
        "model.add(Activation('relu'))\n",
        "model.add(Dense(2))\n",
        "model.add(Activation('softmax'))\n",
        "\n",
        "# initiate RMSprop optimizer\n",
        "opt = keras.optimizers.rmsprop(lr=0.0001, decay=1e-6)\n",
        "\n",
        "# Let's train the model using RMSprop\n",
        "model.compile(loss='categorical_crossentropy',\n",
        "              optimizer=opt,\n",
        "              metrics=['accuracy'])\n",
        "\n",
        "# Train the CNN and plot accuracy.\n",
        "history = model.fit(inputs_train, labels_train_numerical, \\\n",
        "                    validation_data=(inputs_test, labels_test_numerical), \\\n",
        "                    epochs=70)\n",
        "plot_acc(history)\n",
        "\n",
        "##### END CODE"
      ],
      "execution_count": 75,
      "outputs": [
        {
          "output_type": "stream",
          "text": [
            "Train on 960 samples, validate on 240 samples\n",
            "Epoch 1/70\n",
            "960/960 [==============================] - 0s 336us/step - loss: 46.8057 - accuracy: 0.5688 - val_loss: 15.6387 - val_accuracy: 0.4958\n",
            "Epoch 2/70\n",
            "960/960 [==============================] - 0s 156us/step - loss: 21.3349 - accuracy: 0.6521 - val_loss: 1.8436 - val_accuracy: 0.7292\n",
            "Epoch 3/70\n",
            "960/960 [==============================] - 0s 160us/step - loss: 14.6190 - accuracy: 0.6833 - val_loss: 0.5882 - val_accuracy: 0.8667\n",
            "Epoch 4/70\n",
            "960/960 [==============================] - 0s 166us/step - loss: 10.1993 - accuracy: 0.7073 - val_loss: 0.4295 - val_accuracy: 0.9000\n",
            "Epoch 5/70\n",
            "960/960 [==============================] - 0s 152us/step - loss: 7.6446 - accuracy: 0.6938 - val_loss: 1.0256 - val_accuracy: 0.7292\n",
            "Epoch 6/70\n",
            "960/960 [==============================] - 0s 162us/step - loss: 4.1444 - accuracy: 0.7479 - val_loss: 0.6923 - val_accuracy: 0.8000\n",
            "Epoch 7/70\n",
            "960/960 [==============================] - 0s 156us/step - loss: 3.2476 - accuracy: 0.7458 - val_loss: 0.3307 - val_accuracy: 0.8833\n",
            "Epoch 8/70\n",
            "960/960 [==============================] - 0s 161us/step - loss: 2.5265 - accuracy: 0.7625 - val_loss: 1.2696 - val_accuracy: 0.6625\n",
            "Epoch 9/70\n",
            "960/960 [==============================] - 0s 159us/step - loss: 1.8689 - accuracy: 0.7750 - val_loss: 0.2236 - val_accuracy: 0.9208\n",
            "Epoch 10/70\n",
            "960/960 [==============================] - 0s 162us/step - loss: 1.3849 - accuracy: 0.7750 - val_loss: 0.2538 - val_accuracy: 0.8792\n",
            "Epoch 11/70\n",
            "960/960 [==============================] - 0s 159us/step - loss: 1.0762 - accuracy: 0.7750 - val_loss: 0.2229 - val_accuracy: 0.9167\n",
            "Epoch 12/70\n",
            "960/960 [==============================] - 0s 157us/step - loss: 0.9378 - accuracy: 0.7979 - val_loss: 0.1652 - val_accuracy: 0.9333\n",
            "Epoch 13/70\n",
            "960/960 [==============================] - 0s 159us/step - loss: 0.6940 - accuracy: 0.8135 - val_loss: 0.2010 - val_accuracy: 0.9375\n",
            "Epoch 14/70\n",
            "960/960 [==============================] - 0s 163us/step - loss: 0.5914 - accuracy: 0.8354 - val_loss: 0.1990 - val_accuracy: 0.9458\n",
            "Epoch 15/70\n",
            "960/960 [==============================] - 0s 156us/step - loss: 0.5328 - accuracy: 0.8260 - val_loss: 0.2067 - val_accuracy: 0.9333\n",
            "Epoch 16/70\n",
            "960/960 [==============================] - 0s 155us/step - loss: 0.4592 - accuracy: 0.8583 - val_loss: 0.1801 - val_accuracy: 0.9417\n",
            "Epoch 17/70\n",
            "960/960 [==============================] - 0s 168us/step - loss: 0.3954 - accuracy: 0.8729 - val_loss: 0.1578 - val_accuracy: 0.9458\n",
            "Epoch 18/70\n",
            "960/960 [==============================] - 0s 154us/step - loss: 0.3731 - accuracy: 0.8677 - val_loss: 0.1904 - val_accuracy: 0.9417\n",
            "Epoch 19/70\n",
            "960/960 [==============================] - 0s 159us/step - loss: 0.3496 - accuracy: 0.8719 - val_loss: 0.1839 - val_accuracy: 0.9375\n",
            "Epoch 20/70\n",
            "960/960 [==============================] - 0s 152us/step - loss: 0.3786 - accuracy: 0.8833 - val_loss: 0.1618 - val_accuracy: 0.9500\n",
            "Epoch 21/70\n",
            "960/960 [==============================] - 0s 164us/step - loss: 0.3017 - accuracy: 0.8969 - val_loss: 0.1484 - val_accuracy: 0.9458\n",
            "Epoch 22/70\n",
            "960/960 [==============================] - 0s 154us/step - loss: 0.2642 - accuracy: 0.9010 - val_loss: 0.1508 - val_accuracy: 0.9542\n",
            "Epoch 23/70\n",
            "960/960 [==============================] - 0s 163us/step - loss: 0.3033 - accuracy: 0.8875 - val_loss: 0.1433 - val_accuracy: 0.9542\n",
            "Epoch 24/70\n",
            "960/960 [==============================] - 0s 152us/step - loss: 0.2906 - accuracy: 0.8938 - val_loss: 0.1425 - val_accuracy: 0.9500\n",
            "Epoch 25/70\n",
            "960/960 [==============================] - 0s 154us/step - loss: 0.3076 - accuracy: 0.9042 - val_loss: 0.1442 - val_accuracy: 0.9500\n",
            "Epoch 26/70\n",
            "960/960 [==============================] - 0s 149us/step - loss: 0.2935 - accuracy: 0.9042 - val_loss: 0.1545 - val_accuracy: 0.9542\n",
            "Epoch 27/70\n",
            "960/960 [==============================] - 0s 151us/step - loss: 0.2304 - accuracy: 0.9198 - val_loss: 0.1531 - val_accuracy: 0.9542\n",
            "Epoch 28/70\n",
            "960/960 [==============================] - 0s 154us/step - loss: 0.2498 - accuracy: 0.9146 - val_loss: 0.1363 - val_accuracy: 0.9583\n",
            "Epoch 29/70\n",
            "960/960 [==============================] - 0s 153us/step - loss: 0.2180 - accuracy: 0.9125 - val_loss: 0.1374 - val_accuracy: 0.9458\n",
            "Epoch 30/70\n",
            "960/960 [==============================] - 0s 159us/step - loss: 0.2498 - accuracy: 0.9021 - val_loss: 0.1675 - val_accuracy: 0.9333\n",
            "Epoch 31/70\n",
            "960/960 [==============================] - 0s 161us/step - loss: 0.2324 - accuracy: 0.9115 - val_loss: 0.1421 - val_accuracy: 0.9417\n",
            "Epoch 32/70\n",
            "960/960 [==============================] - 0s 151us/step - loss: 0.2285 - accuracy: 0.9146 - val_loss: 0.1592 - val_accuracy: 0.9375\n",
            "Epoch 33/70\n",
            "960/960 [==============================] - 0s 155us/step - loss: 0.2077 - accuracy: 0.9156 - val_loss: 0.1321 - val_accuracy: 0.9583\n",
            "Epoch 34/70\n",
            "960/960 [==============================] - 0s 163us/step - loss: 0.2113 - accuracy: 0.9167 - val_loss: 0.1313 - val_accuracy: 0.9583\n",
            "Epoch 35/70\n",
            "960/960 [==============================] - 0s 154us/step - loss: 0.1885 - accuracy: 0.9281 - val_loss: 0.1461 - val_accuracy: 0.9417\n",
            "Epoch 36/70\n",
            "960/960 [==============================] - 0s 156us/step - loss: 0.2003 - accuracy: 0.9344 - val_loss: 0.1330 - val_accuracy: 0.9500\n",
            "Epoch 37/70\n",
            "960/960 [==============================] - 0s 163us/step - loss: 0.2025 - accuracy: 0.9312 - val_loss: 0.1305 - val_accuracy: 0.9542\n",
            "Epoch 38/70\n",
            "960/960 [==============================] - 0s 153us/step - loss: 0.2307 - accuracy: 0.9229 - val_loss: 0.1318 - val_accuracy: 0.9583\n",
            "Epoch 39/70\n",
            "960/960 [==============================] - 0s 150us/step - loss: 0.2111 - accuracy: 0.9219 - val_loss: 0.1334 - val_accuracy: 0.9542\n",
            "Epoch 40/70\n",
            "960/960 [==============================] - 0s 153us/step - loss: 0.1578 - accuracy: 0.9479 - val_loss: 0.1352 - val_accuracy: 0.9458\n",
            "Epoch 41/70\n",
            "960/960 [==============================] - 0s 158us/step - loss: 0.2103 - accuracy: 0.9344 - val_loss: 0.1785 - val_accuracy: 0.9375\n",
            "Epoch 42/70\n",
            "960/960 [==============================] - 0s 153us/step - loss: 0.1824 - accuracy: 0.9323 - val_loss: 0.1330 - val_accuracy: 0.9583\n",
            "Epoch 43/70\n",
            "960/960 [==============================] - 0s 151us/step - loss: 0.1537 - accuracy: 0.9458 - val_loss: 0.1282 - val_accuracy: 0.9583\n",
            "Epoch 44/70\n",
            "960/960 [==============================] - 0s 171us/step - loss: 0.1840 - accuracy: 0.9281 - val_loss: 0.1272 - val_accuracy: 0.9625\n",
            "Epoch 45/70\n",
            "960/960 [==============================] - 0s 150us/step - loss: 0.1920 - accuracy: 0.9292 - val_loss: 0.1324 - val_accuracy: 0.9583\n",
            "Epoch 46/70\n",
            "960/960 [==============================] - 0s 154us/step - loss: 0.1586 - accuracy: 0.9385 - val_loss: 0.1362 - val_accuracy: 0.9542\n",
            "Epoch 47/70\n",
            "960/960 [==============================] - 0s 151us/step - loss: 0.1963 - accuracy: 0.9312 - val_loss: 0.1314 - val_accuracy: 0.9583\n",
            "Epoch 48/70\n",
            "960/960 [==============================] - 0s 164us/step - loss: 0.1752 - accuracy: 0.9365 - val_loss: 0.1367 - val_accuracy: 0.9542\n",
            "Epoch 49/70\n",
            "960/960 [==============================] - 0s 157us/step - loss: 0.1865 - accuracy: 0.9396 - val_loss: 0.1364 - val_accuracy: 0.9583\n",
            "Epoch 50/70\n",
            "960/960 [==============================] - 0s 163us/step - loss: 0.1548 - accuracy: 0.9469 - val_loss: 0.1253 - val_accuracy: 0.9625\n",
            "Epoch 51/70\n",
            "960/960 [==============================] - 0s 150us/step - loss: 0.1702 - accuracy: 0.9458 - val_loss: 0.1306 - val_accuracy: 0.9625\n",
            "Epoch 52/70\n",
            "960/960 [==============================] - 0s 153us/step - loss: 0.1644 - accuracy: 0.9396 - val_loss: 0.1372 - val_accuracy: 0.9500\n",
            "Epoch 53/70\n",
            "960/960 [==============================] - 0s 150us/step - loss: 0.1408 - accuracy: 0.9552 - val_loss: 0.1309 - val_accuracy: 0.9583\n",
            "Epoch 54/70\n",
            "960/960 [==============================] - 0s 160us/step - loss: 0.1647 - accuracy: 0.9438 - val_loss: 0.1365 - val_accuracy: 0.9625\n",
            "Epoch 55/70\n",
            "960/960 [==============================] - 0s 173us/step - loss: 0.1402 - accuracy: 0.9510 - val_loss: 0.1479 - val_accuracy: 0.9542\n",
            "Epoch 56/70\n",
            "960/960 [==============================] - 0s 155us/step - loss: 0.1490 - accuracy: 0.9469 - val_loss: 0.1505 - val_accuracy: 0.9583\n",
            "Epoch 57/70\n",
            "960/960 [==============================] - 0s 156us/step - loss: 0.1583 - accuracy: 0.9385 - val_loss: 0.1791 - val_accuracy: 0.9417\n",
            "Epoch 58/70\n",
            "960/960 [==============================] - 0s 151us/step - loss: 0.1835 - accuracy: 0.9510 - val_loss: 0.1352 - val_accuracy: 0.9667\n",
            "Epoch 59/70\n",
            "960/960 [==============================] - 0s 155us/step - loss: 0.2082 - accuracy: 0.9354 - val_loss: 0.1250 - val_accuracy: 0.9625\n",
            "Epoch 60/70\n",
            "960/960 [==============================] - 0s 151us/step - loss: 0.1625 - accuracy: 0.9448 - val_loss: 0.1304 - val_accuracy: 0.9625\n",
            "Epoch 61/70\n",
            "960/960 [==============================] - 0s 158us/step - loss: 0.1540 - accuracy: 0.9427 - val_loss: 0.1555 - val_accuracy: 0.9500\n",
            "Epoch 62/70\n",
            "960/960 [==============================] - 0s 156us/step - loss: 0.1577 - accuracy: 0.9490 - val_loss: 0.1353 - val_accuracy: 0.9583\n",
            "Epoch 63/70\n",
            "960/960 [==============================] - 0s 161us/step - loss: 0.1437 - accuracy: 0.9458 - val_loss: 0.1373 - val_accuracy: 0.9583\n",
            "Epoch 64/70\n",
            "960/960 [==============================] - 0s 154us/step - loss: 0.1264 - accuracy: 0.9604 - val_loss: 0.1597 - val_accuracy: 0.9458\n",
            "Epoch 65/70\n",
            "960/960 [==============================] - 0s 159us/step - loss: 0.1896 - accuracy: 0.9500 - val_loss: 0.1372 - val_accuracy: 0.9583\n",
            "Epoch 66/70\n",
            "960/960 [==============================] - 0s 155us/step - loss: 0.1263 - accuracy: 0.9563 - val_loss: 0.1245 - val_accuracy: 0.9667\n",
            "Epoch 67/70\n",
            "960/960 [==============================] - 0s 159us/step - loss: 0.1465 - accuracy: 0.9458 - val_loss: 0.1587 - val_accuracy: 0.9542\n",
            "Epoch 68/70\n",
            "960/960 [==============================] - 0s 155us/step - loss: 0.1757 - accuracy: 0.9458 - val_loss: 0.1290 - val_accuracy: 0.9667\n",
            "Epoch 69/70\n",
            "960/960 [==============================] - 0s 156us/step - loss: 0.1391 - accuracy: 0.9573 - val_loss: 0.1266 - val_accuracy: 0.9667\n",
            "Epoch 70/70\n",
            "960/960 [==============================] - 0s 163us/step - loss: 0.1329 - accuracy: 0.9542 - val_loss: 0.1614 - val_accuracy: 0.9542\n"
          ],
          "name": "stdout"
        },
        {
          "output_type": "display_data",
          "data": {
            "image/png": "[encoded data removed]",
            "text/plain": [
              "<Figure size 432x288 with 1 Axes>"
            ]
          },
          "metadata": {
            "tags": [],
            "needs_background": "light"
          }
        }
      ]
    },
    {
      "cell_type": "markdown",
      "metadata": {
        "id": "RVzEpI_xWpE5",
        "colab_type": "text"
      },
      "source": [
        "![](https://images.pexels.com/photos/316/black-and-white-animal-dog-pet.jpg?auto=compress&cs=tinysrgb&dpr=2&h=650&w=940)"
      ]
    }
  ]
}